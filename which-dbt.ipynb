{
 "cells": [
  {
   "cell_type": "markdown",
   "id": "b128f8f7",
   "metadata": {},
   "source": [
    "# **Phần 1. DBT là gì?**\n",
    "\n",
    "<img src=\"https://encrypted-tbn0.gstatic.com/images?q=tbn:ANd9GcQC8HZ4ZvMGOLrTKWH6oU1B4Xnf0xRKR0zf55xNw5Jxjsrx2lClI3MgaL2hxqXNRhP2H8w&usqp=CAU\" width = 300>"
   ]
  },
  {
   "cell_type": "markdown",
   "id": "ebe2f073",
   "metadata": {},
   "source": [
    "## **I. Khái niệm**\n",
    "\n",
    "- Là công cụ **TRANSFORM DATA** trong Data Warehouse\n",
    "\n",
    "- Trong ETL / ELT pipelines, DBT tập trung vào **Transform**"
   ]
  },
  {
   "cell_type": "markdown",
   "id": "a888f873",
   "metadata": {},
   "source": [
    "## **II. Tại sao lại là DBT?**\n",
    "\n",
    "- Rẻ/ Open Source\n",
    "\n",
    "- Chủ yếu SQL, không cần kĩ năng đặc biệt\n",
    "\n",
    "- Phù hợp mới Cloud hiện đại\n",
    "\n",
    "- Gồm nhiều built-in functions: Version Control, Automation Testing, Docs Generation & Data Lineage Visualization\n",
    "\n",
    "- Khu vực làm việc chung: Coding, Testing, Documentation và Deployment"
   ]
  },
  {
   "cell_type": "markdown",
   "id": "9eee439b",
   "metadata": {},
   "source": [
    "## **III. So sánh mô hình ETL và ELT**\n",
    "\n",
    "<img src=\"https://cdn.prod.website-files.com/66e408a2a1c53743a642f485/673e0ad1ed7f83403b9b2202_66fa17a775aa3eaca58d28ef_668d529d6f4ced05a0b4aaba_etl_with_and_without_dbt.png\" width = 600>\n",
    "\n",
    "**1. Với mô hình ETL:**\n",
    "\n",
    "- Bước 1: Data **extract** từ source \n",
    "\n",
    "- Bước 2: **Transform** thành các thông tin dựa trên business logic\n",
    "\n",
    "- Bước 3: **Load** vào Data Warehouse\n",
    "\n",
    "**2. Với mô hình ELT**\n",
    "\n",
    "- Bước 1: **Extract** data từ source\n",
    "\n",
    "- Bước 2: **Load** vào data warehouse\n",
    "\n",
    "- Bước 3: Các bước **transform** sẽ được diễn ra trong chính data warehouse\n",
    "\n"
   ]
  },
  {
   "cell_type": "markdown",
   "id": "eeeb6a00",
   "metadata": {},
   "source": [
    "**Lý do cho sự chuyển dịch mô hình ETL truyền thống thành ELT hiện đại:**\n",
    "\n",
    "- Cost-effective\n",
    "\n",
    "- Scalability\n",
    "\n",
    "- Flexibility\n",
    "\n",
    "- Faster time-to-insight\n",
    "\n",
    "- Data Governance & Data Linage"
   ]
  },
  {
   "cell_type": "markdown",
   "id": "2f16742d",
   "metadata": {},
   "source": [
    "# **Phần 2. Cách thức cài đặt DBT**"
   ]
  },
  {
   "cell_type": "markdown",
   "id": "1e6e49a1",
   "metadata": {},
   "source": [
    "- Bước 1: Cài đặt Python\n",
    "  - Truy cập trang chủ [Python](https://www.python.org/downloads/) và tải phiên bản mới nhất.\n",
    "  - Trong quá trình cài đặt, **nhớ tích chọn \"Add Python to PATH\"** để sử dụng Python từ dòng lệnh.\n",
    "\n",
    "- Bước 2: Cài đặt VS Code và các Extension cần thiết\n",
    "    - Tải và cài đặt [Visual Studio Code](https://code.visualstudio.com/).\n",
    "    - Mở VS Code, cài đặt các extension sau:\n",
    "      - **Python**\n",
    "      - **Jupyter**\n",
    "\n",
    "- Bước 3: Cài đặt Extension hỗ trợ DBT\n",
    "  - Cài extension **dbt Power User** để hỗ trợ làm việc với DBT trong VS Code.  \n",
    "    👉 [dbt Power User trên VS Code Marketplace](https://marketplace.visualstudio.com/items?itemName=innoverio.vscode-dbt-power-user)\n",
    "\n",
    "\n",
    "- Bước 4: Làm theo Readme"
   ]
  }
 ],
 "metadata": {
  "kernelspec": {
   "display_name": "venv",
   "language": "python",
   "name": "python3"
  },
  "language_info": {
   "codemirror_mode": {
    "name": "ipython",
    "version": 3
   },
   "file_extension": ".py",
   "mimetype": "text/x-python",
   "name": "python",
   "nbconvert_exporter": "python",
   "pygments_lexer": "ipython3",
   "version": "3.8.10"
  }
 },
 "nbformat": 4,
 "nbformat_minor": 5
}
